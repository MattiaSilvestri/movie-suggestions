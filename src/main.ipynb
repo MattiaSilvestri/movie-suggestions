{
 "cells": [
  {
   "cell_type": "markdown",
   "metadata": {},
   "source": [
    "# Movie recommendation app\n",
    "## Concatenate movie dataframes"
   ]
  },
  {
   "cell_type": "code",
   "execution_count": 1,
   "metadata": {},
   "outputs": [],
   "source": [
    "import pandas as pd\n",
    "from sklearn.feature_extraction.text import TfidfVectorizer\n",
    "\n",
    "# Concatenate dataframes\n",
    "movies = pd.read_csv(\"../data/tmdb_5000_movies.csv\")\n",
    "credits = pd.read_csv(\"../data/tmdb_5000_credits.csv\")\n",
    "df = pd.concat((movies, credits[[\"cast\", \"crew\"]]), axis=1)\n",
    "\n",
    "# Save to disk\n",
    "df.to_csv(\"../data/tmdb_5000_all.csv\")"
   ]
  },
  {
   "cell_type": "markdown",
   "metadata": {},
   "source": [
    "## Format movie data"
   ]
  },
  {
   "cell_type": "code",
   "execution_count": 2,
   "metadata": {},
   "outputs": [],
   "source": [
    "# Format movie data so that each movie title is associated with a string reporting its info.\n",
    "import utils.helper as helper\n",
    "import importlib\n",
    "\n",
    "importlib.reload(helper)\n",
    "\n",
    "df = helper.format_data(\"../data/tmdb_5000_all.csv\")\n"
   ]
  },
  {
   "cell_type": "markdown",
   "metadata": {},
   "source": [
    "## Build the similarity matrix"
   ]
  },
  {
   "cell_type": "code",
   "execution_count": 3,
   "metadata": {},
   "outputs": [
    {
     "name": "stderr",
     "output_type": "stream",
     "text": [
      "[nltk_data] Downloading package stopwords to /home/mattia/nltk_data...\n",
      "[nltk_data]   Package stopwords is already up-to-date!\n"
     ]
    }
   ],
   "source": [
    "import nltk\n",
    "from nltk.corpus import stopwords\n",
    "import scipy.sparse\n",
    "from sklearn.metrics.pairwise import cosine_similarity\n",
    "\n",
    "# Download nltk to get stopwords english dictionary\n",
    "nltk.download('stopwords')\n",
    "\n",
    "# Use TfIdf to build the vector space\n",
    "stopwords.words('english')\n",
    "stop_words = [\"id\", \"name\"]\n",
    "stop_words = stop_words.append(stopwords.words('english'))\n",
    "vectorizer = TfidfVectorizer(stop_words=stop_words, max_features=300)\n",
    "X = vectorizer.fit_transform(df[\"info\"])\n",
    "\n",
    "# Build the sparse matrix\n",
    "sparse = pd.DataFrame.sparse.from_spmatrix(X)\n",
    "\n",
    "# Build the cosine similarity matrix and save it to disk\n",
    "cos_sim = cosine_similarity(sparse.values, sparse.values)\n",
    "cos_df = pd.DataFrame(index=df[\"index\"], columns=df[\"index\"],data=cos_sim)\n",
    "cos_df.to_csv(\"../data/movie_similarity.csv\") \n"
   ]
  },
  {
   "cell_type": "code",
   "execution_count": 5,
   "metadata": {},
   "outputs": [],
   "source": [
    "movies = pd.read_csv(\"../data/movie_similarity.csv\")"
   ]
  },
  {
   "cell_type": "code",
   "execution_count": 9,
   "metadata": {},
   "outputs": [
    {
     "name": "stdout",
     "output_type": "stream",
     "text": [
      "The Hunger Games: Mockingjay - Part 1\n",
      "Jupiter Ascending\n",
      "The Martian\n",
      "The Amazing Spider-Man\n",
      "Spectre\n",
      "Captain America: The First Avenger\n",
      "2012\n",
      "The Girl with the Dragon Tattoo\n",
      "Battle: Los Angeles\n",
      "300: Rise of an Empire\n"
     ]
    }
   ],
   "source": [
    "tmp = cos_df[\"Avatar\"].sort_values(ascending=False)[1:11]\n",
    "for i in tmp.index.values:\n",
    "    print(i)"
   ]
  }
 ],
 "metadata": {
  "kernelspec": {
   "display_name": "movie-suggestions",
   "language": "python",
   "name": "python3"
  },
  "language_info": {
   "codemirror_mode": {
    "name": "ipython",
    "version": 3
   },
   "file_extension": ".py",
   "mimetype": "text/x-python",
   "name": "python",
   "nbconvert_exporter": "python",
   "pygments_lexer": "ipython3",
   "version": "3.11.2"
  },
  "orig_nbformat": 4,
  "vscode": {
   "interpreter": {
    "hash": "b23416e4d64f2a7724644a4717ebddbdd558feac783fd679dfcad3acf970e20d"
   }
  }
 },
 "nbformat": 4,
 "nbformat_minor": 2
}
