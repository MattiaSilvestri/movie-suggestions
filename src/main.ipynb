{
 "cells": [
  {
   "cell_type": "markdown",
   "metadata": {},
   "source": [
    "# Movie recommendation app\n",
    "## Concatenate movie dataframes"
   ]
  },
  {
   "cell_type": "code",
   "execution_count": 1,
   "metadata": {},
   "outputs": [],
   "source": [
    "import pandas as pd\n",
    "from sklearn.feature_extraction.text import TfidfVectorizer\n",
    "\n",
    "# Concatenate dataframes\n",
    "movies = pd.read_csv(\"../data/tmdb_5000_movies.csv\")\n",
    "credits = pd.read_csv(\"../data/tmdb_5000_credits.csv\")\n",
    "df = pd.concat((movies, credits[[\"cast\", \"crew\"]]), axis=1)\n",
    "\n",
    "# Save to disk\n",
    "df.to_csv(\"../data/tmdb_5000_all.csv\")"
   ]
  },
  {
   "cell_type": "markdown",
   "metadata": {},
   "source": [
    "## Format movie data"
   ]
  },
  {
   "cell_type": "code",
   "execution_count": 2,
   "metadata": {},
   "outputs": [],
   "source": [
    "# Format movie data so that each movie title is associated with a string reporting its info.\n",
    "import utils.helper as helper\n",
    "import importlib\n",
    "\n",
    "importlib.reload(helper)\n",
    "\n",
    "df = helper.format_data(\"../data/tmdb_5000_all.csv\")\n"
   ]
  },
  {
   "cell_type": "markdown",
   "metadata": {},
   "source": [
    "## Build the similarity matrix"
   ]
  },
  {
   "cell_type": "code",
   "execution_count": 3,
   "metadata": {},
   "outputs": [
    {
     "name": "stderr",
     "output_type": "stream",
     "text": [
      "[nltk_data] Downloading package stopwords to /home/mattia/nltk_data...\n",
      "[nltk_data]   Package stopwords is already up-to-date!\n"
     ]
    }
   ],
   "source": [
    "import nltk\n",
    "from nltk.corpus import stopwords\n",
    "import scipy.sparse\n",
    "from sklearn.metrics.pairwise import cosine_similarity\n",
    "\n",
    "# Download nltk to get stopwords english dictionary\n",
    "nltk.download('stopwords')\n",
    "\n",
    "# Use TfIdf to build the vector space\n",
    "stopwords.words('english')\n",
    "stop_words = [\"id\", \"name\"]\n",
    "stop_words = stop_words.append(stopwords.words('english'))\n",
    "vectorizer = TfidfVectorizer(stop_words=stop_words, max_features=300)\n",
    "X = vectorizer.fit_transform(df[\"info\"])\n",
    "\n",
    "# Build the sparse matrix\n",
    "sparse = pd.DataFrame.sparse.from_spmatrix(X)\n",
    "\n",
    "# Build the cosine similarity matrix and save it to disk\n",
    "cos_sim = cosine_similarity(sparse.values, sparse.values)\n",
    "cos_df = pd.DataFrame(index=df[\"index\"], columns=df[\"index\"],data=cos_sim)\n",
    "cos_df.to_csv(\"../data/movie_similarity.csv\") \n"
   ]
  },
  {
   "cell_type": "code",
   "execution_count": 5,
   "metadata": {},
   "outputs": [],
   "source": [
    "movies = pd.read_csv(\"../data/movie_similarity.csv\")"
   ]
  },
  {
   "cell_type": "code",
   "execution_count": 18,
   "metadata": {},
   "outputs": [
    {
     "data": {
      "text/plain": [
       "index\n",
       "Avatar                                   1.000000\n",
       "The Hunger Games: Mockingjay - Part 1    0.985521\n",
       "Jupiter Ascending                        0.984788\n",
       "The Martian                              0.981608\n",
       "The Amazing Spider-Man                   0.981432\n",
       "                                           ...   \n",
       "America Is Still the Place               0.007463\n",
       "Death Calls                              0.007125\n",
       "Light from the Darkroom                  0.005322\n",
       "UnDivided                                0.005090\n",
       "Harrison Montgomery                      0.004228\n",
       "Name: Avatar, Length: 4800, dtype: float64"
      ]
     },
     "execution_count": 18,
     "metadata": {},
     "output_type": "execute_result"
    }
   ],
   "source": [
    "cos_df[\"Avatar\"].sort_values(ascending=False)"
   ]
  }
 ],
 "metadata": {
  "kernelspec": {
   "display_name": "movie-suggestions",
   "language": "python",
   "name": "python3"
  },
  "language_info": {
   "codemirror_mode": {
    "name": "ipython",
    "version": 3
   },
   "file_extension": ".py",
   "mimetype": "text/x-python",
   "name": "python",
   "nbconvert_exporter": "python",
   "pygments_lexer": "ipython3",
   "version": "3.11.2"
  },
  "orig_nbformat": 4,
  "vscode": {
   "interpreter": {
    "hash": "b23416e4d64f2a7724644a4717ebddbdd558feac783fd679dfcad3acf970e20d"
   }
  }
 },
 "nbformat": 4,
 "nbformat_minor": 2
}
